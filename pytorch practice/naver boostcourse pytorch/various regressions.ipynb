{
 "cells": [
  {
   "cell_type": "code",
   "execution_count": 1,
   "id": "8a4b8e7e",
   "metadata": {},
   "outputs": [
    {
     "name": "stderr",
     "output_type": "stream",
     "text": [
      "C:\\Users\\mjsk1\\anaconda3\\envs\\Pytorch\\lib\\site-packages\\tqdm\\auto.py:21: TqdmWarning: IProgress not found. Please update jupyter and ipywidgets. See https://ipywidgets.readthedocs.io/en/stable/user_install.html\n",
      "  from .autonotebook import tqdm as notebook_tqdm\n"
     ]
    }
   ],
   "source": [
    "import numpy as np\n",
    "import torch\n",
    "import torch.optim as optim"
   ]
  },
  {
   "cell_type": "markdown",
   "id": "09a5146a",
   "metadata": {},
   "source": [
    "## simple linear regression"
   ]
  },
  {
   "cell_type": "code",
   "execution_count": 2,
   "id": "2b5a0161",
   "metadata": {},
   "outputs": [],
   "source": [
    "x_train= torch.FloatTensor([[1],[2],[3]])\n",
    "y_train= torch.FloatTensor([[2],[4],[6]])"
   ]
  },
  {
   "cell_type": "code",
   "execution_count": 3,
   "id": "c2b39367",
   "metadata": {},
   "outputs": [],
   "source": [
    "w=torch.zeros(1, requires_grad=True)\n",
    "b= torch.zeros(1, requires_grad=True)"
   ]
  },
  {
   "cell_type": "code",
   "execution_count": 4,
   "id": "41de286f",
   "metadata": {},
   "outputs": [
    {
     "name": "stdout",
     "output_type": "stream",
     "text": [
      "epoch   10 / 100, w: 1.101, cost: 2.313895\n",
      "epoch   20 / 100, w: 1.511, cost: 0.284360\n",
      "epoch   30 / 100, w: 1.642, cost: 0.088100\n",
      "epoch   40 / 100, w: 1.688, cost: 0.066544\n",
      "epoch   50 / 100, w: 1.707, cost: 0.061758\n",
      "epoch   60 / 100, w: 1.717, cost: 0.058698\n",
      "epoch   70 / 100, w: 1.725, cost: 0.055924\n",
      "epoch   80 / 100, w: 1.732, cost: 0.053295\n",
      "epoch   90 / 100, w: 1.738, cost: 0.050790\n",
      "epoch  100 / 100, w: 1.744, cost: 0.048403\n"
     ]
    }
   ],
   "source": [
    "optimizer= optim.SGD([w,b],lr=0.01)\n",
    "n_epochs=100\n",
    "for epoch in range(1,n_epochs+1):\n",
    "    hypothesis= x_train * w + b\n",
    "    cost= torch.mean((hypothesis-y_train)**2)\n",
    "    if epoch%10 ==0.:\n",
    "        print('epoch {:4d} / {}, w: {:.3f}, cost: {:.6f}'.format(epoch, n_epochs, w.item(), cost.item()))\n",
    "    optimizer.zero_grad() # 0으로 initialize\n",
    "    cost.backward()  # backpropagation\n",
    "    optimizer.step() # update\n",
    "   "
   ]
  },
  {
   "cell_type": "code",
   "execution_count": 5,
   "id": "6b4c8801",
   "metadata": {},
   "outputs": [
    {
     "name": "stdout",
     "output_type": "stream",
     "text": [
      "tensor([1.7451], requires_grad=True) tensor([0.5795], requires_grad=True)\n"
     ]
    }
   ],
   "source": [
    "print(w,b)"
   ]
  },
  {
   "cell_type": "markdown",
   "id": "c22d7353",
   "metadata": {},
   "source": [
    "## Multivariable linear regression"
   ]
  },
  {
   "cell_type": "code",
   "execution_count": 6,
   "id": "7adcaee1",
   "metadata": {},
   "outputs": [],
   "source": [
    "x_train= torch.FloatTensor([[1,5,9],[2,4,7],[3,6,9]])\n",
    "y_train= torch.FloatTensor([[22],[21],[30]])"
   ]
  },
  {
   "cell_type": "code",
   "execution_count": 7,
   "id": "26ab09e2",
   "metadata": {},
   "outputs": [
    {
     "name": "stdout",
     "output_type": "stream",
     "text": [
      "epoch  100 / 1000, cost: 58.416199\n",
      "epoch  200 / 1000, cost: 39.995365\n",
      "epoch  300 / 1000, cost: 27.693430\n",
      "epoch  400 / 1000, cost: 19.476860\n",
      "epoch  500 / 1000, cost: 13.987984\n",
      "epoch  600 / 1000, cost: 10.320362\n",
      "epoch  700 / 1000, cost: 7.868727\n",
      "epoch  800 / 1000, cost: 6.228994\n",
      "epoch  900 / 1000, cost: 5.131334\n",
      "epoch 1000 / 1000, cost: 4.395679\n"
     ]
    }
   ],
   "source": [
    "w=torch.ones((3,1), requires_grad=True)\n",
    "b= torch.zeros(1, requires_grad=True)\n",
    "optimizer= optim.SGD([w,b],lr=1e-5)\n",
    "n_epochs=1000\n",
    "for epoch in range(1,n_epochs+1):\n",
    "    hypothesis= x_train.matmul(w) + b\n",
    "    cost= torch.mean((hypothesis-y_train)**2)\n",
    "    if epoch%100 ==0.:\n",
    "        print('epoch {:4d} / {}, cost: {:.6f}'.format(epoch, n_epochs, cost.item()))\n",
    "    optimizer.zero_grad() # 0으로 initialize\n",
    "    cost.backward()  # backpropagation\n",
    "    optimizer.step() # update"
   ]
  },
  {
   "cell_type": "code",
   "execution_count": 8,
   "id": "898acf71",
   "metadata": {},
   "outputs": [
    {
     "data": {
      "text/plain": [
       "(tensor([[1.1842],\n",
       "         [1.4021],\n",
       "         [1.6446]], requires_grad=True),\n",
       " tensor([0.0771], requires_grad=True))"
      ]
     },
     "execution_count": 8,
     "metadata": {},
     "output_type": "execute_result"
    }
   ],
   "source": [
    "w,b"
   ]
  },
  {
   "cell_type": "markdown",
   "id": "85a22443",
   "metadata": {},
   "source": [
    "## use class "
   ]
  },
  {
   "cell_type": "code",
   "execution_count": 9,
   "id": "25fc1e41",
   "metadata": {},
   "outputs": [],
   "source": [
    "import torch.nn.functional as F\n",
    "import torch.nn as nn"
   ]
  },
  {
   "cell_type": "code",
   "execution_count": 10,
   "id": "02e90657",
   "metadata": {},
   "outputs": [],
   "source": [
    "x_train= torch.FloatTensor([[1,5,9],[2,4,7],[3,6,9]])\n",
    "y_train= torch.FloatTensor([[22],[21],[30]])"
   ]
  },
  {
   "cell_type": "code",
   "execution_count": 11,
   "id": "a6485282",
   "metadata": {},
   "outputs": [
    {
     "name": "stdout",
     "output_type": "stream",
     "text": [
      "epoch  100 / 1000, cost: 374.948395\n",
      "epoch  200 / 1000, cost: 252.733276\n",
      "epoch  300 / 1000, cost: 171.126419\n",
      "epoch  400 / 1000, cost: 116.632484\n",
      "epoch  500 / 1000, cost: 80.241417\n",
      "epoch  600 / 1000, cost: 55.937130\n",
      "epoch  700 / 1000, cost: 39.702885\n",
      "epoch  800 / 1000, cost: 28.856842\n",
      "epoch  900 / 1000, cost: 21.608467\n",
      "epoch 1000 / 1000, cost: 16.762121\n"
     ]
    }
   ],
   "source": [
    "class regressionmodel(nn.Module):\n",
    "    def __init__(self):\n",
    "        super().__init__()\n",
    "        self.linear= nn.Linear(3,1)\n",
    "    \n",
    "    def forward(self,x):\n",
    "        return self.linear(x)\n",
    "model= regressionmodel()\n",
    "\n",
    "optimizer=optim.SGD(model.parameters(),lr=1e-5)\n",
    "n_epochs=1000\n",
    "for epoch in range(1,n_epochs+1):\n",
    "    hypothesis= model(x_train)\n",
    "    cost=F.mse_loss( hypothesis,y_train)\n",
    "   \n",
    "    optimizer.zero_grad()\n",
    "    cost.backward()  \n",
    "    optimizer.step()\n",
    "    \n",
    "    if epoch%100 ==0.:\n",
    "        print('epoch {:4d} / {}, cost: {:.6f}'.format(epoch, n_epochs, cost.item()))"
   ]
  },
  {
   "cell_type": "markdown",
   "id": "889fc0d5",
   "metadata": {},
   "source": [
    "## Logistic Regression"
   ]
  },
  {
   "cell_type": "code",
   "execution_count": 83,
   "id": "4025cfa1",
   "metadata": {},
   "outputs": [],
   "source": [
    "import torch\n",
    "import torch.nn as nn\n",
    "import torch.nn.functional as F\n",
    "import torch.optim as optim"
   ]
  },
  {
   "cell_type": "code",
   "execution_count": 84,
   "id": "9c6cbc2b",
   "metadata": {},
   "outputs": [
    {
     "data": {
      "text/plain": [
       "<torch._C.Generator at 0x2429fd5d030>"
      ]
     },
     "execution_count": 84,
     "metadata": {},
     "output_type": "execute_result"
    }
   ],
   "source": [
    "torch.manual_seed(1)"
   ]
  },
  {
   "cell_type": "code",
   "execution_count": 85,
   "id": "23983268",
   "metadata": {},
   "outputs": [],
   "source": [
    "x_data= [[1,2],[2,3],[3,1],[4,3],[5,3],[6,2]]\n",
    "y_data= [[0],[0],[0],[1],[1],[1]]"
   ]
  },
  {
   "cell_type": "code",
   "execution_count": 86,
   "id": "c5389c55",
   "metadata": {},
   "outputs": [],
   "source": [
    "x_train= torch.FloatTensor(x_data)\n",
    "y_train= torch.FloatTensor(y_data)"
   ]
  },
  {
   "cell_type": "code",
   "execution_count": 87,
   "id": "2eb7e3d1",
   "metadata": {},
   "outputs": [],
   "source": [
    "w= torch.zeros((2,1),requires_grad=True)\n",
    "b= torch.zeros(1,requires_grad=True)"
   ]
  },
  {
   "cell_type": "code",
   "execution_count": 88,
   "id": "fcd04a73",
   "metadata": {},
   "outputs": [],
   "source": [
    "hypothesis1= 1 / (1+torch.exp(-(x_train.matmul(w) + b))) # sigmoid function\n",
    "# torxh.matmul(x,w) 도 가능 \n",
    "# torch.sigmoid() 제공\n",
    "hypothesis= torch.sigmoid(x_train.matmul(w) + b)"
   ]
  },
  {
   "cell_type": "code",
   "execution_count": 89,
   "id": "2a49b75f",
   "metadata": {},
   "outputs": [
    {
     "name": "stdout",
     "output_type": "stream",
     "text": [
      "tensor([[0.5000],\n",
      "        [0.5000],\n",
      "        [0.5000],\n",
      "        [0.5000],\n",
      "        [0.5000],\n",
      "        [0.5000]], grad_fn=<SigmoidBackward0>)\n",
      "torch.Size([6, 1])\n"
     ]
    }
   ],
   "source": [
    "print(hypothesis)\n",
    "print(hypothesis.shape)"
   ]
  },
  {
   "cell_type": "code",
   "execution_count": 90,
   "id": "9a105bd5",
   "metadata": {},
   "outputs": [
    {
     "name": "stdout",
     "output_type": "stream",
     "text": [
      "tensor([[0.6931],\n",
      "        [0.6931],\n",
      "        [0.6931],\n",
      "        [0.6931],\n",
      "        [0.6931],\n",
      "        [0.6931]], grad_fn=<NegBackward0>)\n"
     ]
    }
   ],
   "source": [
    "losses= -(y_train * torch.log(hypothesis) + (1-y_train) * torch.log(1- hypothesis))\n",
    "print(losses)"
   ]
  },
  {
   "cell_type": "code",
   "execution_count": 91,
   "id": "bd514203",
   "metadata": {},
   "outputs": [
    {
     "data": {
      "text/plain": [
       "tensor(0.6931, grad_fn=<MeanBackward0>)"
      ]
     },
     "execution_count": 91,
     "metadata": {},
     "output_type": "execute_result"
    }
   ],
   "source": [
    "cost=losses.mean()\n",
    "cost"
   ]
  },
  {
   "cell_type": "code",
   "execution_count": 92,
   "id": "666fc0ed",
   "metadata": {},
   "outputs": [
    {
     "data": {
      "text/plain": [
       "tensor(0.6931, grad_fn=<BinaryCrossEntropyBackward0>)"
      ]
     },
     "execution_count": 92,
     "metadata": {},
     "output_type": "execute_result"
    }
   ],
   "source": [
    "# 한번에 computing the cost function\n",
    "F.binary_cross_entropy(hypothesis, y_train)"
   ]
  },
  {
   "cell_type": "code",
   "execution_count": 93,
   "id": "a9722d9a",
   "metadata": {},
   "outputs": [
    {
     "name": "stdout",
     "output_type": "stream",
     "text": [
      "epoch    0/1000 cost: 0.693147\n",
      "epoch  100/1000 cost: 0.134722\n",
      "epoch  200/1000 cost: 0.080643\n",
      "epoch  300/1000 cost: 0.057900\n",
      "epoch  400/1000 cost: 0.045300\n",
      "epoch  500/1000 cost: 0.037261\n",
      "epoch  600/1000 cost: 0.031672\n",
      "epoch  700/1000 cost: 0.027556\n",
      "epoch  800/1000 cost: 0.024394\n",
      "epoch  900/1000 cost: 0.021888\n",
      "epoch 1000/1000 cost: 0.019852\n"
     ]
    }
   ],
   "source": [
    "# training\n",
    "optimizer= optim.SGD([w,b], lr=1)\n",
    "nb_epochs=1000\n",
    "for epoch in range(nb_epochs + 1):\n",
    "    hypothesis= torch.sigmoid(x_train.matmul(w) + b)\n",
    "    cost= F.binary_cross_entropy(hypothesis, y_train)\n",
    "    \n",
    "    optimizer.zero_grad() #\n",
    "    cost.backward()\n",
    "    optimizer.step()\n",
    "    \n",
    "    if epoch % 100 ==0:\n",
    "        print('epoch {:4d}/{} cost: {:.6f}'.format(epoch,nb_epochs, cost.item()))"
   ]
  },
  {
   "cell_type": "code",
   "execution_count": 53,
   "id": "06e16011",
   "metadata": {},
   "outputs": [
    {
     "name": "stdout",
     "output_type": "stream",
     "text": [
      "tensor([[2.7648e-04],\n",
      "        [3.1608e-02],\n",
      "        [3.8977e-02],\n",
      "        [9.5622e-01],\n",
      "        [9.9823e-01],\n",
      "        [9.9969e-01]], grad_fn=<SigmoidBackward0>)\n"
     ]
    }
   ],
   "source": [
    "hypothesis= torch.sigmoid(x_train.matmul(w) + b)\n",
    "print(hypothesis)"
   ]
  },
  {
   "cell_type": "code",
   "execution_count": 54,
   "id": "733c6396",
   "metadata": {
    "scrolled": false
   },
   "outputs": [
    {
     "name": "stdout",
     "output_type": "stream",
     "text": [
      "tensor([[False],\n",
      "        [False],\n",
      "        [False],\n",
      "        [ True],\n",
      "        [ True],\n",
      "        [ True]])\n"
     ]
    }
   ],
   "source": [
    "prediction= hypothesis>=torch.FloatTensor([0.5])\n",
    "print(prediction)"
   ]
  },
  {
   "cell_type": "markdown",
   "id": "75d95fba",
   "metadata": {},
   "source": [
    "## using class"
   ]
  },
  {
   "cell_type": "code",
   "execution_count": 105,
   "id": "5e12cd42",
   "metadata": {},
   "outputs": [],
   "source": [
    "torch.manual_seed(1)\n",
    "x_data= [[1,2],[2,3],[3,1],[4,3],[5,3],[6,2]]\n",
    "y_data= [[0],[0],[0],[1],[1],[1]]\n",
    "x_train= torch.FloatTensor(x_data)\n",
    "y_train= torch.FloatTensor(y_data)\n",
    "\n",
    "class BinaryClassifier(nn.Module):\n",
    "    def __init__(self):\n",
    "        super().__init__()\n",
    "        self.linear = nn.Linear(2, 1)\n",
    "        self.sigmoid = nn.Sigmoid()\n",
    "\n",
    "    def forward(self, x):\n",
    "        return self.sigmoid(self.linear(x))\n"
   ]
  },
  {
   "cell_type": "code",
   "execution_count": 106,
   "id": "4e0fcf16",
   "metadata": {},
   "outputs": [
    {
     "name": "stdout",
     "output_type": "stream",
     "text": [
      "epoch    0/1000 cost: 0.539713\n",
      "epoch  100/1000 cost: 0.134272\n",
      "epoch  200/1000 cost: 0.080486\n",
      "epoch  300/1000 cost: 0.057820\n",
      "epoch  400/1000 cost: 0.045251\n",
      "epoch  500/1000 cost: 0.037228\n",
      "epoch  600/1000 cost: 0.031649\n",
      "epoch  700/1000 cost: 0.027538\n",
      "epoch  800/1000 cost: 0.024381\n",
      "epoch  900/1000 cost: 0.021877\n",
      "epoch 1000/1000 cost: 0.019843\n"
     ]
    }
   ],
   "source": [
    "model = BinaryClassifier()\n",
    "optimizer= optim.SGD(model.parameters(), lr=1)\n",
    "nb_epochs=1000\n",
    "for epoch in range(nb_epochs + 1):\n",
    "    hypothesis= model(x_train)\n",
    "    cost= F.binary_cross_entropy(hypothesis, y_train)\n",
    "    \n",
    "    optimizer.zero_grad() #\n",
    "    cost.backward()\n",
    "    optimizer.step()\n",
    "    \n",
    "    if epoch % 100 ==0:\n",
    "        print('epoch {:4d}/{} cost: {:.6f}'.format(epoch,nb_epochs, cost.item()))"
   ]
  },
  {
   "cell_type": "code",
   "execution_count": 107,
   "id": "52ea438e",
   "metadata": {},
   "outputs": [
    {
     "data": {
      "text/plain": [
       "[Parameter containing:\n",
       " tensor([[3.2534, 1.5181]], requires_grad=True),\n",
       " Parameter containing:\n",
       " tensor([-14.4839], requires_grad=True)]"
      ]
     },
     "execution_count": 107,
     "metadata": {},
     "output_type": "execute_result"
    }
   ],
   "source": [
    "list(model.parameters())"
   ]
  },
  {
   "cell_type": "code",
   "execution_count": null,
   "id": "4df0e4ec",
   "metadata": {},
   "outputs": [],
   "source": []
  }
 ],
 "metadata": {
  "kernelspec": {
   "display_name": "Python 3 (ipykernel)",
   "language": "python",
   "name": "python3"
  },
  "language_info": {
   "codemirror_mode": {
    "name": "ipython",
    "version": 3
   },
   "file_extension": ".py",
   "mimetype": "text/x-python",
   "name": "python",
   "nbconvert_exporter": "python",
   "pygments_lexer": "ipython3",
   "version": "3.7.16"
  }
 },
 "nbformat": 4,
 "nbformat_minor": 5
}
