{
 "cells": [
  {
   "cell_type": "code",
   "execution_count": 4,
   "id": "0b6f9b51",
   "metadata": {},
   "outputs": [],
   "source": [
    "import torch\n",
    "import torch.nn as nn\n",
    "import torchvision.datasets as dsets\n",
    "import torchvision.transforms as transforms\n",
    "import torch.nn.init"
   ]
  },
  {
   "cell_type": "markdown",
   "id": "aed4ffdb",
   "metadata": {},
   "source": [
    "# mnist"
   ]
  },
  {
   "cell_type": "code",
   "execution_count": 55,
   "id": "d459f8f7",
   "metadata": {},
   "outputs": [],
   "source": [
    "device= 'cuda' if torch.cuda.is_available() else 'cpu'\n",
    "torch.manual_seed(777)\n",
    "if device=='cuda':\n",
    "    torch.cuda.manual_seed_all(777)"
   ]
  },
  {
   "cell_type": "code",
   "execution_count": 56,
   "id": "ccf0aace",
   "metadata": {},
   "outputs": [
    {
     "data": {
      "text/plain": [
       "'cuda'"
      ]
     },
     "execution_count": 56,
     "metadata": {},
     "output_type": "execute_result"
    }
   ],
   "source": [
    "device"
   ]
  },
  {
   "cell_type": "code",
   "execution_count": 57,
   "id": "187bbf2c",
   "metadata": {},
   "outputs": [],
   "source": [
    "learning_rate=0.001\n",
    "training_epoch=15\n",
    "batch_size=100"
   ]
  },
  {
   "cell_type": "code",
   "execution_count": 58,
   "id": "5018c562",
   "metadata": {},
   "outputs": [],
   "source": [
    "mnist_train= dsets.MNIST(root='MNIST_data/',\n",
    "                        train=True, transform=transforms.ToTensor(),\n",
    "                        download=True)\n",
    "mnist_test= dsets.MNIST(root='MNIST_data/',\n",
    "                        train=False, transform=transforms.ToTensor(),\n",
    "                        download=True)"
   ]
  },
  {
   "cell_type": "code",
   "execution_count": 59,
   "id": "1774062c",
   "metadata": {},
   "outputs": [],
   "source": [
    "data_loader= torch.utils.data.DataLoader(dataset=mnist_train,batch_size=batch_size,\n",
    "                                        shuffle=True,drop_last=True)"
   ]
  },
  {
   "cell_type": "code",
   "execution_count": 60,
   "id": "e5dd9ad7",
   "metadata": {},
   "outputs": [],
   "source": [
    "class CNN(nn.Module):\n",
    "    \n",
    "    def __init__(self):\n",
    "        super(CNN,self).__init__()\n",
    "        self.layer1= nn.Sequential(\n",
    "            nn.Conv2d(1,32,kernel_size=3,stride=1,padding=1),\n",
    "            nn.ReLU(),\n",
    "            nn.MaxPool2d(2))\n",
    "        \n",
    "        self.layer2= nn.Sequential(\n",
    "            nn.Conv2d(32,64,3,1,1),\n",
    "            nn.ReLU(),\n",
    "            nn.MaxPool2d(2))\n",
    "        \n",
    "        self.fc=nn.Linear(7*7*64, 10,bias=True)\n",
    "        torch.nn.init.xavier_uniform_(self.fc.weight) #초기화\n",
    "        \n",
    "    def forward(self,x):\n",
    "        out=self.layer1(x)\n",
    "        out=self.layer2(out)\n",
    "        out=out.view(out.size(0),-1)\n",
    "        out=self.fc(out)\n",
    "        return out\n",
    "        \n",
    "        \n",
    "        "
   ]
  },
  {
   "cell_type": "code",
   "execution_count": 61,
   "id": "3f26d02a",
   "metadata": {},
   "outputs": [],
   "source": [
    "model= CNN().to(device)"
   ]
  },
  {
   "cell_type": "code",
   "execution_count": 62,
   "id": "2c1dce87",
   "metadata": {},
   "outputs": [
    {
     "data": {
      "text/plain": [
       "CNN(\n",
       "  (layer1): Sequential(\n",
       "    (0): Conv2d(1, 32, kernel_size=(3, 3), stride=(1, 1), padding=(1, 1))\n",
       "    (1): ReLU()\n",
       "    (2): MaxPool2d(kernel_size=2, stride=2, padding=0, dilation=1, ceil_mode=False)\n",
       "  )\n",
       "  (layer2): Sequential(\n",
       "    (0): Conv2d(32, 64, kernel_size=(3, 3), stride=(1, 1), padding=(1, 1))\n",
       "    (1): ReLU()\n",
       "    (2): MaxPool2d(kernel_size=2, stride=2, padding=0, dilation=1, ceil_mode=False)\n",
       "  )\n",
       "  (fc): Linear(in_features=3136, out_features=10, bias=True)\n",
       ")"
      ]
     },
     "execution_count": 62,
     "metadata": {},
     "output_type": "execute_result"
    }
   ],
   "source": [
    "model"
   ]
  },
  {
   "cell_type": "code",
   "execution_count": 63,
   "id": "7308d7f7",
   "metadata": {},
   "outputs": [],
   "source": [
    "criterion=nn.CrossEntropyLoss().to(device)\n",
    "optimizer=torch.optim.Adam(model.parameters(),lr=learning_rate)"
   ]
  },
  {
   "cell_type": "code",
   "execution_count": 23,
   "id": "31d5dbf6",
   "metadata": {},
   "outputs": [
    {
     "name": "stdout",
     "output_type": "stream",
     "text": [
      "600\n",
      "Epoch:1 cost= 0.006377627607434988\n",
      "Epoch:2 cost= 0.00410427013412118\n",
      "Epoch:3 cost= 0.004087864421308041\n",
      "Epoch:4 cost= 0.003787226742133498\n",
      "Epoch:5 cost= 0.004933951888233423\n",
      "Epoch:6 cost= 0.004547517746686935\n",
      "Epoch:7 cost= 0.002257126849144697\n",
      "Epoch:8 cost= 0.0024167962837964296\n",
      "Epoch:9 cost= 0.00363301788456738\n",
      "Epoch:10 cost= 0.002311863237991929\n",
      "Epoch:11 cost= 0.00346028502099216\n",
      "Epoch:12 cost= 0.0028967224061489105\n",
      "Epoch:13 cost= 0.0037777230609208345\n",
      "Epoch:14 cost= 0.001077996683306992\n",
      "Epoch:15 cost= 0.0002023927663685754\n"
     ]
    }
   ],
   "source": [
    "#train\n",
    "total_batch=len(data_loader)\n",
    "print(total_batch)\n",
    "for epoch in range(training_epoch):\n",
    "    avg_cost=0\n",
    "    \n",
    "    for X,Y in data_loader:\n",
    "        X= X.to(device)\n",
    "        Y=Y.to(device)\n",
    "        \n",
    "        optimizer.zero_grad()\n",
    "        hypothesis=model(X)\n",
    "        cost=criterion(hypothesis,Y)\n",
    "        cost.backward()\n",
    "        optimizer.step()\n",
    "        avg_cost+= cost/ total_batch\n",
    "    print('Epoch:{} cost= {}'.format(epoch+1,avg_cost))\n"
   ]
  },
  {
   "cell_type": "code",
   "execution_count": 25,
   "id": "c2dded8b",
   "metadata": {},
   "outputs": [
    {
     "name": "stderr",
     "output_type": "stream",
     "text": [
      "C:\\Users\\mjsk1\\anaconda3\\envs\\Pytorch\\lib\\site-packages\\torchvision\\datasets\\mnist.py:80: UserWarning: test_data has been renamed data\n",
      "  warnings.warn(\"test_data has been renamed data\")\n",
      "C:\\Users\\mjsk1\\anaconda3\\envs\\Pytorch\\lib\\site-packages\\torchvision\\datasets\\mnist.py:70: UserWarning: test_labels has been renamed targets\n",
      "  warnings.warn(\"test_labels has been renamed targets\")\n"
     ]
    },
    {
     "name": "stdout",
     "output_type": "stream",
     "text": [
      "0.9887999892234802\n"
     ]
    }
   ],
   "source": [
    "with torch.no_grad():\n",
    "    X_test=mnist_test.test_data.view(len(mnist_test),1,28,28).float().to(device)\n",
    "    Y_test=mnist_test.test_labels.to(device)\n",
    "    \n",
    "    prediction=model(X_test)\n",
    "    correct_prediction=torch.argmax(prediction,1)==Y_test\n",
    "    accuracy=correct_prediction.float().mean()\n",
    "    print(accuracy.item())"
   ]
  },
  {
   "cell_type": "markdown",
   "id": "d75d236d",
   "metadata": {},
   "source": [
    "# visdom"
   ]
  },
  {
   "cell_type": "code",
   "execution_count": 5,
   "id": "f8262f49",
   "metadata": {},
   "outputs": [],
   "source": [
    "import torch\n",
    "import torch.nn as nn\n",
    "import torchvision\n",
    "import torchvision.datasets as dsets"
   ]
  },
  {
   "cell_type": "code",
   "execution_count": 8,
   "id": "d44d3ea0",
   "metadata": {},
   "outputs": [
    {
     "name": "stderr",
     "output_type": "stream",
     "text": [
      "Setting up a new session...\n"
     ]
    }
   ],
   "source": [
    "import visdom\n",
    "vis= visdom.Visdom()"
   ]
  },
  {
   "cell_type": "code",
   "execution_count": 10,
   "id": "2599c087",
   "metadata": {},
   "outputs": [
    {
     "data": {
      "text/plain": [
       "'window_3c8cebcb0c7fa8'"
      ]
     },
     "execution_count": 10,
     "metadata": {},
     "output_type": "execute_result"
    }
   ],
   "source": [
    "vis.text('hello',env='main')"
   ]
  },
  {
   "cell_type": "code",
   "execution_count": 11,
   "id": "c7a97952",
   "metadata": {},
   "outputs": [
    {
     "data": {
      "text/plain": [
       "'window_3c8cebe91e818a'"
      ]
     },
     "execution_count": 11,
     "metadata": {},
     "output_type": "execute_result"
    }
   ],
   "source": [
    "a=torch.randn(3,200,200)\n",
    "vis.image(a)"
   ]
  },
  {
   "cell_type": "code",
   "execution_count": 13,
   "id": "31c2ff6b",
   "metadata": {},
   "outputs": [
    {
     "data": {
      "text/plain": [
       "'window_3c8cec187f30f0'"
      ]
     },
     "execution_count": 13,
     "metadata": {},
     "output_type": "execute_result"
    }
   ],
   "source": [
    "vis.images(torch.Tensor(3,3,28,28))"
   ]
  },
  {
   "cell_type": "code",
   "execution_count": 16,
   "id": "51016610",
   "metadata": {},
   "outputs": [],
   "source": [
    "mnist= dsets.MNIST(root=\"./MNIST_data\",train=True,transform=torchvision.transforms.ToTensor()\n",
    "                  ,download=True)"
   ]
  },
  {
   "cell_type": "code",
   "execution_count": 18,
   "id": "413a9ca9",
   "metadata": {},
   "outputs": [
    {
     "name": "stdout",
     "output_type": "stream",
     "text": [
      "Downloading https://www.cs.toronto.edu/~kriz/cifar-10-python.tar.gz to ./MNIST_data\\cifar-10-python.tar.gz\n"
     ]
    },
    {
     "name": "stderr",
     "output_type": "stream",
     "text": [
      "100%|███████████████████████████████████████████████████████████████| 170498071/170498071 [00:35<00:00, 4822632.39it/s]\n"
     ]
    },
    {
     "name": "stdout",
     "output_type": "stream",
     "text": [
      "Extracting ./MNIST_data\\cifar-10-python.tar.gz to ./MNIST_data\n"
     ]
    }
   ],
   "source": [
    "cifar10= dsets.CIFAR10(root=\"./MNIST_data\",train=True,transform=torchvision.transforms.ToTensor()\n",
    "                  ,download=True)"
   ]
  },
  {
   "cell_type": "code",
   "execution_count": 21,
   "id": "c26e2e39",
   "metadata": {},
   "outputs": [
    {
     "name": "stdout",
     "output_type": "stream",
     "text": [
      "torch.Size([3, 32, 32])\n"
     ]
    }
   ],
   "source": [
    "data= cifar10.__getitem__(0)\n",
    "print(data[0].shape)"
   ]
  },
  {
   "cell_type": "code",
   "execution_count": 22,
   "id": "6ec0ad3d",
   "metadata": {},
   "outputs": [
    {
     "data": {
      "text/plain": [
       "'window_3c8cecbd56ae1e'"
      ]
     },
     "execution_count": 22,
     "metadata": {},
     "output_type": "execute_result"
    }
   ],
   "source": [
    "vis.images(data[0],env='main')"
   ]
  },
  {
   "cell_type": "code",
   "execution_count": 23,
   "id": "90943e2c",
   "metadata": {},
   "outputs": [],
   "source": [
    "data_loader= torch.utils.data.DataLoader(dataset=mnist,batch_size=32,shuffle=False)"
   ]
  },
  {
   "cell_type": "code",
   "execution_count": 27,
   "id": "8901500d",
   "metadata": {},
   "outputs": [
    {
     "data": {
      "text/plain": [
       "<enumerate at 0x179e580d4a8>"
      ]
     },
     "execution_count": 27,
     "metadata": {},
     "output_type": "execute_result"
    }
   ],
   "source": [
    "enumerate(data_loader)"
   ]
  },
  {
   "cell_type": "code",
   "execution_count": 24,
   "id": "f0ec74c5",
   "metadata": {},
   "outputs": [
    {
     "name": "stdout",
     "output_type": "stream",
     "text": [
      "torch.Size([32, 1, 28, 28])\n"
     ]
    }
   ],
   "source": [
    "for num, value in enumerate(data_loader):\n",
    "    value=value[0]\n",
    "    print(value.shape)\n",
    "    vis.images(value)\n",
    "    break"
   ]
  },
  {
   "cell_type": "code",
   "execution_count": 54,
   "id": "9dfafbe2",
   "metadata": {},
   "outputs": [
    {
     "data": {
      "text/plain": [
       "''"
      ]
     },
     "execution_count": 54,
     "metadata": {},
     "output_type": "execute_result"
    }
   ],
   "source": [
    "vis.close(env='main') # 창 끄기"
   ]
  },
  {
   "cell_type": "code",
   "execution_count": 37,
   "id": "3e3563bf",
   "metadata": {},
   "outputs": [],
   "source": [
    "Y_data=torch.randn(5)\n",
    "plt=vis.line(Y=Y_data)"
   ]
  },
  {
   "cell_type": "code",
   "execution_count": 38,
   "id": "9bdcf77a",
   "metadata": {},
   "outputs": [],
   "source": [
    "X_data=torch.Tensor([1,2,3,4,5])\n",
    "plt=vis.line(Y=Y_data,X=X_data)"
   ]
  },
  {
   "cell_type": "code",
   "execution_count": 39,
   "id": "94382029",
   "metadata": {},
   "outputs": [
    {
     "data": {
      "text/plain": [
       "'window_3c8cee68735cb8'"
      ]
     },
     "execution_count": 39,
     "metadata": {},
     "output_type": "execute_result"
    }
   ],
   "source": [
    "Y_append=torch.randn(1)\n",
    "X_append=torch.Tensor([6])\n",
    "vis.line(Y=Y_append,X=X_append,win=plt,update='append')"
   ]
  },
  {
   "cell_type": "code",
   "execution_count": 44,
   "id": "28d1dfa5",
   "metadata": {},
   "outputs": [],
   "source": [
    "num= torch.Tensor(list(range(0,10)))\n",
    "num=num.view(-1,1)\n",
    "num=torch.cat((num,num),dim=-1)\n",
    "num\n",
    "plt=vis.line(Y=torch.randn(10,2),X=num)"
   ]
  },
  {
   "cell_type": "code",
   "execution_count": 47,
   "id": "3c2d95e9",
   "metadata": {},
   "outputs": [],
   "source": [
    "plt=vis.line(Y=Y_data,X=X_data,opts=dict(title='test',showlegend=True))"
   ]
  },
  {
   "cell_type": "code",
   "execution_count": 48,
   "id": "93843b12",
   "metadata": {},
   "outputs": [],
   "source": [
    "plt=vis.line(Y=Y_data,X=X_data,opts=dict(title='test',legend=['1번'],showlegend=True))"
   ]
  },
  {
   "cell_type": "code",
   "execution_count": 50,
   "id": "1bbb7281",
   "metadata": {},
   "outputs": [],
   "source": [
    "plt=vis.line(Y=torch.randn(10,2),X=num,opts=dict(title='test',legend=['1번','2번'],showlegend=True))"
   ]
  },
  {
   "cell_type": "code",
   "execution_count": 64,
   "id": "0e046c50",
   "metadata": {},
   "outputs": [],
   "source": [
    "def loss_tracker(loss_plot,loss_value,num):\n",
    "    vis.line(X=num,Y=loss_value,win=loss_plot,update='append')"
   ]
  },
  {
   "cell_type": "code",
   "execution_count": 53,
   "id": "6f1e96dc",
   "metadata": {},
   "outputs": [],
   "source": [
    "plt=vis.line(Y=torch.Tensor(1).zero_())\n",
    "\n",
    "for i in range(500):\n",
    "    loss=torch.randn(1)+i\n",
    "    loss_tracker(plt,loss,torch.Tensor([i]))"
   ]
  },
  {
   "cell_type": "markdown",
   "id": "9e38d172",
   "metadata": {},
   "source": [
    "# mnist-visdom"
   ]
  },
  {
   "cell_type": "code",
   "execution_count": 67,
   "id": "1a672bbb",
   "metadata": {},
   "outputs": [
    {
     "data": {
      "text/plain": [
       "''"
      ]
     },
     "execution_count": 67,
     "metadata": {},
     "output_type": "execute_result"
    }
   ],
   "source": [
    "vis.close(env='main') "
   ]
  },
  {
   "cell_type": "code",
   "execution_count": 68,
   "id": "7259601e",
   "metadata": {},
   "outputs": [],
   "source": [
    "loss_plt= vis.line(Y=torch.Tensor(1).zero_(),opts=dict(title='loss_tracker',legend=['loss'],showlegend=True))"
   ]
  },
  {
   "cell_type": "code",
   "execution_count": 69,
   "id": "7d2e55d0",
   "metadata": {},
   "outputs": [
    {
     "name": "stdout",
     "output_type": "stream",
     "text": [
      "600\n",
      "Epoch:1 cost= 0.22556628286838531\n",
      "Epoch:2 cost= 0.06302006542682648\n",
      "Epoch:3 cost= 0.04633789882063866\n",
      "Epoch:4 cost= 0.037422701716423035\n",
      "Epoch:5 cost= 0.03146076947450638\n",
      "Epoch:6 cost= 0.026114581152796745\n",
      "Epoch:7 cost= 0.022100256755948067\n",
      "Epoch:8 cost= 0.018162861466407776\n",
      "Epoch:9 cost= 0.016209902241826057\n",
      "Epoch:10 cost= 0.013248170726001263\n",
      "Epoch:11 cost= 0.010320274159312248\n",
      "Epoch:12 cost= 0.009862552396953106\n",
      "Epoch:13 cost= 0.008333929814398289\n",
      "Epoch:14 cost= 0.0061579737812280655\n",
      "Epoch:15 cost= 0.007398598827421665\n"
     ]
    }
   ],
   "source": [
    "#train\n",
    "total_batch=len(data_loader)\n",
    "print(total_batch)\n",
    "for epoch in range(training_epoch):\n",
    "    avg_cost=0\n",
    "    \n",
    "    for X,Y in data_loader:\n",
    "        X= X.to(device)\n",
    "        Y=Y.to(device)\n",
    "        \n",
    "        optimizer.zero_grad()\n",
    "        hypothesis=model(X)\n",
    "        cost=criterion(hypothesis,Y)\n",
    "        cost.backward()\n",
    "        optimizer.step()\n",
    "        avg_cost+= cost/ total_batch\n",
    "    print('Epoch:{} cost= {}'.format(epoch+1,avg_cost))\n",
    "    loss_tracker(loss_plt,torch.Tensor([avg_cost]),torch.Tensor([epoch]))"
   ]
  },
  {
   "cell_type": "code",
   "execution_count": null,
   "id": "a2a0eeaa",
   "metadata": {},
   "outputs": [],
   "source": []
  },
  {
   "cell_type": "code",
   "execution_count": null,
   "id": "19556fb0",
   "metadata": {},
   "outputs": [],
   "source": []
  }
 ],
 "metadata": {
  "kernelspec": {
   "display_name": "Python 3 (ipykernel)",
   "language": "python",
   "name": "python3"
  },
  "language_info": {
   "codemirror_mode": {
    "name": "ipython",
    "version": 3
   },
   "file_extension": ".py",
   "mimetype": "text/x-python",
   "name": "python",
   "nbconvert_exporter": "python",
   "pygments_lexer": "ipython3",
   "version": "3.7.16"
  }
 },
 "nbformat": 4,
 "nbformat_minor": 5
}
